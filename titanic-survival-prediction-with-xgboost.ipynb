{
 "cells": [
  {
   "cell_type": "code",
   "execution_count": 1,
   "id": "e54ef901",
   "metadata": {
    "_cell_guid": "b1076dfc-b9ad-4769-8c92-a6c4dae69d19",
    "_uuid": "8f2839f25d086af736a60e9eeb907d3b93b6e0e5",
    "execution": {
     "iopub.execute_input": "2025-07-07T19:55:09.293729Z",
     "iopub.status.busy": "2025-07-07T19:55:09.293403Z",
     "iopub.status.idle": "2025-07-07T19:55:11.497384Z",
     "shell.execute_reply": "2025-07-07T19:55:11.495899Z"
    },
    "papermill": {
     "duration": 2.21093,
     "end_time": "2025-07-07T19:55:11.499162",
     "exception": false,
     "start_time": "2025-07-07T19:55:09.288232",
     "status": "completed"
    },
    "tags": []
   },
   "outputs": [
    {
     "name": "stdout",
     "output_type": "stream",
     "text": [
      "/kaggle/input/titanic/train.csv\n",
      "/kaggle/input/titanic/test.csv\n",
      "/kaggle/input/titanic/gender_submission.csv\n"
     ]
    }
   ],
   "source": [
    "# This Python 3 environment comes with many helpful analytics libraries installed\n",
    "# It is defined by the kaggle/python Docker image: https://github.com/kaggle/docker-python\n",
    "# For example, here's several helpful packages to load\n",
    "\n",
    "import numpy as np # linear algebra\n",
    "import pandas as pd # data processing, CSV file I/O (e.g. pd.read_csv)\n",
    "\n",
    "# Input data files are available in the read-only \"../input/\" directory\n",
    "# For example, running this (by clicking run or pressing Shift+Enter) will list all files under the input directory\n",
    "\n",
    "import os\n",
    "for dirname, _, filenames in os.walk('/kaggle/input'):\n",
    "    for filename in filenames:\n",
    "        print(os.path.join(dirname, filename))\n",
    "\n",
    "# You can write up to 20GB to the current directory (/kaggle/working/) that gets preserved as output when you create a version using \"Save & Run All\" \n",
    "# You can also write temporary files to /kaggle/temp/, but they won't be saved outside of the current session"
   ]
  },
  {
   "cell_type": "code",
   "execution_count": 2,
   "id": "6f5e0353",
   "metadata": {
    "execution": {
     "iopub.execute_input": "2025-07-07T19:55:11.508467Z",
     "iopub.status.busy": "2025-07-07T19:55:11.507987Z",
     "iopub.status.idle": "2025-07-07T19:55:11.513106Z",
     "shell.execute_reply": "2025-07-07T19:55:11.512060Z"
    },
    "papermill": {
     "duration": 0.012045,
     "end_time": "2025-07-07T19:55:11.515131",
     "exception": false,
     "start_time": "2025-07-07T19:55:11.503086",
     "status": "completed"
    },
    "tags": []
   },
   "outputs": [],
   "source": [
    "import pandas as pd\n",
    "import numpy as np\n",
    "import matplotlib.pyplot as plt"
   ]
  },
  {
   "cell_type": "code",
   "execution_count": 3,
   "id": "224c4748",
   "metadata": {
    "execution": {
     "iopub.execute_input": "2025-07-07T19:55:11.523479Z",
     "iopub.status.busy": "2025-07-07T19:55:11.523082Z",
     "iopub.status.idle": "2025-07-07T19:55:11.597050Z",
     "shell.execute_reply": "2025-07-07T19:55:11.595918Z"
    },
    "papermill": {
     "duration": 0.080193,
     "end_time": "2025-07-07T19:55:11.598859",
     "exception": false,
     "start_time": "2025-07-07T19:55:11.518666",
     "status": "completed"
    },
    "tags": []
   },
   "outputs": [
    {
     "data": {
      "text/html": [
       "<div>\n",
       "<style scoped>\n",
       "    .dataframe tbody tr th:only-of-type {\n",
       "        vertical-align: middle;\n",
       "    }\n",
       "\n",
       "    .dataframe tbody tr th {\n",
       "        vertical-align: top;\n",
       "    }\n",
       "\n",
       "    .dataframe thead th {\n",
       "        text-align: right;\n",
       "    }\n",
       "</style>\n",
       "<table border=\"1\" class=\"dataframe\">\n",
       "  <thead>\n",
       "    <tr style=\"text-align: right;\">\n",
       "      <th></th>\n",
       "      <th>PassengerId</th>\n",
       "      <th>Survived</th>\n",
       "      <th>Pclass</th>\n",
       "      <th>Name</th>\n",
       "      <th>Sex</th>\n",
       "      <th>Age</th>\n",
       "      <th>SibSp</th>\n",
       "      <th>Parch</th>\n",
       "      <th>Ticket</th>\n",
       "      <th>Fare</th>\n",
       "      <th>Cabin</th>\n",
       "      <th>Embarked</th>\n",
       "    </tr>\n",
       "  </thead>\n",
       "  <tbody>\n",
       "    <tr>\n",
       "      <th>0</th>\n",
       "      <td>1</td>\n",
       "      <td>0</td>\n",
       "      <td>3</td>\n",
       "      <td>Braund, Mr. Owen Harris</td>\n",
       "      <td>male</td>\n",
       "      <td>22.0</td>\n",
       "      <td>1</td>\n",
       "      <td>0</td>\n",
       "      <td>A/5 21171</td>\n",
       "      <td>7.2500</td>\n",
       "      <td>NaN</td>\n",
       "      <td>S</td>\n",
       "    </tr>\n",
       "    <tr>\n",
       "      <th>1</th>\n",
       "      <td>2</td>\n",
       "      <td>1</td>\n",
       "      <td>1</td>\n",
       "      <td>Cumings, Mrs. John Bradley (Florence Briggs Th...</td>\n",
       "      <td>female</td>\n",
       "      <td>38.0</td>\n",
       "      <td>1</td>\n",
       "      <td>0</td>\n",
       "      <td>PC 17599</td>\n",
       "      <td>71.2833</td>\n",
       "      <td>C85</td>\n",
       "      <td>C</td>\n",
       "    </tr>\n",
       "    <tr>\n",
       "      <th>2</th>\n",
       "      <td>3</td>\n",
       "      <td>1</td>\n",
       "      <td>3</td>\n",
       "      <td>Heikkinen, Miss. Laina</td>\n",
       "      <td>female</td>\n",
       "      <td>26.0</td>\n",
       "      <td>0</td>\n",
       "      <td>0</td>\n",
       "      <td>STON/O2. 3101282</td>\n",
       "      <td>7.9250</td>\n",
       "      <td>NaN</td>\n",
       "      <td>S</td>\n",
       "    </tr>\n",
       "    <tr>\n",
       "      <th>3</th>\n",
       "      <td>4</td>\n",
       "      <td>1</td>\n",
       "      <td>1</td>\n",
       "      <td>Futrelle, Mrs. Jacques Heath (Lily May Peel)</td>\n",
       "      <td>female</td>\n",
       "      <td>35.0</td>\n",
       "      <td>1</td>\n",
       "      <td>0</td>\n",
       "      <td>113803</td>\n",
       "      <td>53.1000</td>\n",
       "      <td>C123</td>\n",
       "      <td>S</td>\n",
       "    </tr>\n",
       "    <tr>\n",
       "      <th>4</th>\n",
       "      <td>5</td>\n",
       "      <td>0</td>\n",
       "      <td>3</td>\n",
       "      <td>Allen, Mr. William Henry</td>\n",
       "      <td>male</td>\n",
       "      <td>35.0</td>\n",
       "      <td>0</td>\n",
       "      <td>0</td>\n",
       "      <td>373450</td>\n",
       "      <td>8.0500</td>\n",
       "      <td>NaN</td>\n",
       "      <td>S</td>\n",
       "    </tr>\n",
       "  </tbody>\n",
       "</table>\n",
       "</div>"
      ],
      "text/plain": [
       "   PassengerId  Survived  Pclass  \\\n",
       "0            1         0       3   \n",
       "1            2         1       1   \n",
       "2            3         1       3   \n",
       "3            4         1       1   \n",
       "4            5         0       3   \n",
       "\n",
       "                                                Name     Sex   Age  SibSp  \\\n",
       "0                            Braund, Mr. Owen Harris    male  22.0      1   \n",
       "1  Cumings, Mrs. John Bradley (Florence Briggs Th...  female  38.0      1   \n",
       "2                             Heikkinen, Miss. Laina  female  26.0      0   \n",
       "3       Futrelle, Mrs. Jacques Heath (Lily May Peel)  female  35.0      1   \n",
       "4                           Allen, Mr. William Henry    male  35.0      0   \n",
       "\n",
       "   Parch            Ticket     Fare Cabin Embarked  \n",
       "0      0         A/5 21171   7.2500   NaN        S  \n",
       "1      0          PC 17599  71.2833   C85        C  \n",
       "2      0  STON/O2. 3101282   7.9250   NaN        S  \n",
       "3      0            113803  53.1000  C123        S  \n",
       "4      0            373450   8.0500   NaN        S  "
      ]
     },
     "execution_count": 3,
     "metadata": {},
     "output_type": "execute_result"
    }
   ],
   "source": [
    "train_data = pd.read_csv(\"/kaggle/input/titanic/train.csv\")\n",
    "test_data = pd.read_csv(\"/kaggle/input/titanic/test.csv\")\n",
    "train_data.head()"
   ]
  },
  {
   "cell_type": "code",
   "execution_count": 4,
   "id": "890ba177",
   "metadata": {
    "execution": {
     "iopub.execute_input": "2025-07-07T19:55:11.608162Z",
     "iopub.status.busy": "2025-07-07T19:55:11.607740Z",
     "iopub.status.idle": "2025-07-07T19:55:11.626048Z",
     "shell.execute_reply": "2025-07-07T19:55:11.624504Z"
    },
    "papermill": {
     "duration": 0.025138,
     "end_time": "2025-07-07T19:55:11.627820",
     "exception": false,
     "start_time": "2025-07-07T19:55:11.602682",
     "status": "completed"
    },
    "tags": []
   },
   "outputs": [],
   "source": [
    "train_data = train_data.drop([\"PassengerId\", \"Name\", \"Ticket\"], axis =1 )\n",
    "test_data = test_data.drop([\"Name\",\"Ticket\"],axis = 1)"
   ]
  },
  {
   "cell_type": "code",
   "execution_count": 5,
   "id": "fb3201d3",
   "metadata": {
    "execution": {
     "iopub.execute_input": "2025-07-07T19:55:11.636828Z",
     "iopub.status.busy": "2025-07-07T19:55:11.636532Z",
     "iopub.status.idle": "2025-07-07T19:55:11.647980Z",
     "shell.execute_reply": "2025-07-07T19:55:11.646935Z"
    },
    "papermill": {
     "duration": 0.018196,
     "end_time": "2025-07-07T19:55:11.649650",
     "exception": false,
     "start_time": "2025-07-07T19:55:11.631454",
     "status": "completed"
    },
    "tags": []
   },
   "outputs": [
    {
     "data": {
      "text/plain": [
       "PassengerId      0\n",
       "Pclass           0\n",
       "Sex              0\n",
       "Age             86\n",
       "SibSp            0\n",
       "Parch            0\n",
       "Fare             1\n",
       "Cabin          327\n",
       "Embarked         0\n",
       "dtype: int64"
      ]
     },
     "execution_count": 5,
     "metadata": {},
     "output_type": "execute_result"
    }
   ],
   "source": [
    "train_data.isnull().sum()\n",
    "test_data.isnull().sum()"
   ]
  },
  {
   "cell_type": "code",
   "execution_count": 6,
   "id": "96e0d1cf",
   "metadata": {
    "execution": {
     "iopub.execute_input": "2025-07-07T19:55:11.658297Z",
     "iopub.status.busy": "2025-07-07T19:55:11.657934Z",
     "iopub.status.idle": "2025-07-07T19:55:11.669423Z",
     "shell.execute_reply": "2025-07-07T19:55:11.668316Z"
    },
    "papermill": {
     "duration": 0.017769,
     "end_time": "2025-07-07T19:55:11.671021",
     "exception": false,
     "start_time": "2025-07-07T19:55:11.653252",
     "status": "completed"
    },
    "tags": []
   },
   "outputs": [],
   "source": [
    "train_data[\"Age\"] = train_data[\"Age\"].fillna(train_data[\"Age\"].median())\n",
    "test_data[\"Age\"] = train_data[\"Age\"].fillna(train_data[\"Age\"].median())\n",
    "\n",
    "train_data[\"Fare\"] = train_data[\"Fare\"].fillna(train_data[\"Fare\"].median())\n",
    "test_data[\"Fare\"] = train_data[\"Fare\"].fillna(train_data[\"Fare\"].median())\n",
    "\n",
    "train_data = train_data.drop(columns=[\"Cabin\"])\n",
    "test_data = test_data.drop(columns=[\"Cabin\"])"
   ]
  },
  {
   "cell_type": "code",
   "execution_count": 7,
   "id": "31764313",
   "metadata": {
    "execution": {
     "iopub.execute_input": "2025-07-07T19:55:11.679936Z",
     "iopub.status.busy": "2025-07-07T19:55:11.679212Z",
     "iopub.status.idle": "2025-07-07T19:55:11.685527Z",
     "shell.execute_reply": "2025-07-07T19:55:11.684470Z"
    },
    "papermill": {
     "duration": 0.012543,
     "end_time": "2025-07-07T19:55:11.687293",
     "exception": false,
     "start_time": "2025-07-07T19:55:11.674750",
     "status": "completed"
    },
    "tags": []
   },
   "outputs": [],
   "source": [
    "x = train_data.drop(columns = [\"Survived\"])\n",
    "y = train_data[\"Survived\"]\n"
   ]
  },
  {
   "cell_type": "code",
   "execution_count": 8,
   "id": "78afbbc0",
   "metadata": {
    "execution": {
     "iopub.execute_input": "2025-07-07T19:55:11.696567Z",
     "iopub.status.busy": "2025-07-07T19:55:11.695917Z",
     "iopub.status.idle": "2025-07-07T19:55:13.452905Z",
     "shell.execute_reply": "2025-07-07T19:55:13.451464Z"
    },
    "papermill": {
     "duration": 1.763836,
     "end_time": "2025-07-07T19:55:13.454847",
     "exception": false,
     "start_time": "2025-07-07T19:55:11.691011",
     "status": "completed"
    },
    "tags": []
   },
   "outputs": [],
   "source": [
    "from sklearn.model_selection import train_test_split\n",
    "\n",
    "X = pd.get_dummies(x , columns = [\"Sex\",\"Embarked\"])\n",
    "test_data = pd.get_dummies(test_data, columns = [\"Sex\",\"Embarked\"])\n",
    "x_train, x_test, y_train, y_test = train_test_split(X,y,test_size= 0.2,random_state = 0)"
   ]
  },
  {
   "cell_type": "code",
   "execution_count": 9,
   "id": "120e8b32",
   "metadata": {
    "execution": {
     "iopub.execute_input": "2025-07-07T19:55:13.463944Z",
     "iopub.status.busy": "2025-07-07T19:55:13.463462Z",
     "iopub.status.idle": "2025-07-07T19:55:14.222089Z",
     "shell.execute_reply": "2025-07-07T19:55:14.220725Z"
    },
    "papermill": {
     "duration": 0.765261,
     "end_time": "2025-07-07T19:55:14.224018",
     "exception": false,
     "start_time": "2025-07-07T19:55:13.458757",
     "status": "completed"
    },
    "tags": []
   },
   "outputs": [],
   "source": [
    "from sklearn.ensemble import RandomForestClassifier\n",
    "model = RandomForestClassifier(n_estimators = 100,random_state = 0)\n",
    "model.fit(x_train,y_train)\n",
    "y_pred = model.predict(x_test)"
   ]
  },
  {
   "cell_type": "code",
   "execution_count": 10,
   "id": "07c288c9",
   "metadata": {
    "execution": {
     "iopub.execute_input": "2025-07-07T19:55:14.232307Z",
     "iopub.status.busy": "2025-07-07T19:55:14.232001Z",
     "iopub.status.idle": "2025-07-07T19:55:14.252598Z",
     "shell.execute_reply": "2025-07-07T19:55:14.251103Z"
    },
    "papermill": {
     "duration": 0.026802,
     "end_time": "2025-07-07T19:55:14.254416",
     "exception": false,
     "start_time": "2025-07-07T19:55:14.227614",
     "status": "completed"
    },
    "tags": []
   },
   "outputs": [
    {
     "name": "stdout",
     "output_type": "stream",
     "text": [
      "              precision    recall  f1-score   support\n",
      "\n",
      "           0       0.90      0.85      0.87       117\n",
      "           1       0.74      0.82      0.78        62\n",
      "\n",
      "    accuracy                           0.84       179\n",
      "   macro avg       0.82      0.83      0.83       179\n",
      "weighted avg       0.84      0.84      0.84       179\n",
      "\n",
      "[[99 18]\n",
      " [11 51]]\n"
     ]
    }
   ],
   "source": [
    "from sklearn.metrics import confusion_matrix,classification_report\n",
    "\n",
    "cs = confusion_matrix(y_pred,y_test)\n",
    "print(classification_report(y_pred,y_test))\n",
    "print(cs)"
   ]
  },
  {
   "cell_type": "code",
   "execution_count": 11,
   "id": "6b71b953",
   "metadata": {
    "execution": {
     "iopub.execute_input": "2025-07-07T19:55:14.263443Z",
     "iopub.status.busy": "2025-07-07T19:55:14.263074Z",
     "iopub.status.idle": "2025-07-07T19:55:14.703503Z",
     "shell.execute_reply": "2025-07-07T19:55:14.702134Z"
    },
    "papermill": {
     "duration": 0.447259,
     "end_time": "2025-07-07T19:55:14.705382",
     "exception": false,
     "start_time": "2025-07-07T19:55:14.258123",
     "status": "completed"
    },
    "tags": []
   },
   "outputs": [
    {
     "name": "stdout",
     "output_type": "stream",
     "text": [
      "              precision    recall  f1-score   support\n",
      "\n",
      "           0       0.93      0.85      0.89       120\n",
      "           1       0.74      0.86      0.80        59\n",
      "\n",
      "    accuracy                           0.85       179\n",
      "   macro avg       0.83      0.86      0.84       179\n",
      "weighted avg       0.87      0.85      0.86       179\n",
      "\n",
      "[[102  18]\n",
      " [  8  51]]\n"
     ]
    }
   ],
   "source": [
    "import xgboost as xgb\n",
    "model = xgb.XGBClassifier(use_label_encoder = False,eval_metric = \"logloss\")\n",
    "model.fit(x_train,y_train)\n",
    "y_pred = model.predict(x_test)\n",
    "\n",
    "cs_xgb = confusion_matrix(y_pred,y_test)\n",
    "print(classification_report(y_pred,y_test))\n",
    "print(cs_xgb)"
   ]
  },
  {
   "cell_type": "code",
   "execution_count": 12,
   "id": "6e72a918",
   "metadata": {
    "execution": {
     "iopub.execute_input": "2025-07-07T19:55:14.714052Z",
     "iopub.status.busy": "2025-07-07T19:55:14.713695Z",
     "iopub.status.idle": "2025-07-07T19:55:14.738572Z",
     "shell.execute_reply": "2025-07-07T19:55:14.737058Z"
    },
    "papermill": {
     "duration": 0.031578,
     "end_time": "2025-07-07T19:55:14.740687",
     "exception": false,
     "start_time": "2025-07-07T19:55:14.709109",
     "status": "completed"
    },
    "tags": []
   },
   "outputs": [],
   "source": [
    "test_data1 = test_data.drop(columns=[\"PassengerId\"])\n",
    "test_preds = model.predict(test_data1)\n",
    "\n",
    "submission = pd.DataFrame({\n",
    "    \"PassengerId\": test_data[\"PassengerId\"],\n",
    "    \"Survived\": test_preds\n",
    "})\n",
    "\n",
    "submission.to_csv(\"submission.csv\",index = False)"
   ]
  },
  {
   "cell_type": "code",
   "execution_count": null,
   "id": "d66a5567",
   "metadata": {
    "papermill": {
     "duration": 0.004323,
     "end_time": "2025-07-07T19:55:14.750302",
     "exception": false,
     "start_time": "2025-07-07T19:55:14.745979",
     "status": "completed"
    },
    "tags": []
   },
   "outputs": [],
   "source": []
  }
 ],
 "metadata": {
  "kaggle": {
   "accelerator": "none",
   "dataSources": [
    {
     "databundleVersionId": 26502,
     "sourceId": 3136,
     "sourceType": "competition"
    }
   ],
   "dockerImageVersionId": 31040,
   "isGpuEnabled": false,
   "isInternetEnabled": true,
   "language": "python",
   "sourceType": "notebook"
  },
  "kernelspec": {
   "display_name": "Python 3",
   "language": "python",
   "name": "python3"
  },
  "language_info": {
   "codemirror_mode": {
    "name": "ipython",
    "version": 3
   },
   "file_extension": ".py",
   "mimetype": "text/x-python",
   "name": "python",
   "nbconvert_exporter": "python",
   "pygments_lexer": "ipython3",
   "version": "3.11.11"
  },
  "papermill": {
   "default_parameters": {},
   "duration": 12.469114,
   "end_time": "2025-07-07T19:55:15.375695",
   "environment_variables": {},
   "exception": null,
   "input_path": "__notebook__.ipynb",
   "output_path": "__notebook__.ipynb",
   "parameters": {},
   "start_time": "2025-07-07T19:55:02.906581",
   "version": "2.6.0"
  }
 },
 "nbformat": 4,
 "nbformat_minor": 5
}
